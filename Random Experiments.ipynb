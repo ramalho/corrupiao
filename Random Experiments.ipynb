{
 "cells": [
  {
   "cell_type": "markdown",
   "metadata": {},
   "source": [
    "# Drawing Euclidean Vectors"
   ]
  },
  {
   "cell_type": "markdown",
   "metadata": {},
   "source": [
    "**Non functioning** example code and image from http://stackoverflow.com/questions/12265234/how-to-plot-2d-math-vectors-with-matplotlib"
   ]
  },
  {
   "cell_type": "code",
   "execution_count": null,
   "metadata": {
    "collapsed": true
   },
   "outputs": [],
   "source": [
    "import numpy as np\n",
    "import matplotlib.pyplot as plt\n",
    "soa =np.array( [ [0,0,3,2], [0,0,1,1],[0,0,9,9]]) \n",
    "X,Y,U,V = zip(*soa)\n",
    "plt.figure()\n",
    "ax = plt.gca()\n",
    "ax.quiver(X,Y,U,V,angles='xy',scale_units='xy',scale=1)\n",
    "ax.set_xlim([-1,10])\n",
    "ax.set_ylim([-1,10])\n",
    "plt.draw()\n",
    "plt.show()"
   ]
  },
  {
   "cell_type": "markdown",
   "metadata": {},
   "source": [
    "The output should look like this:\n",
    "\n",
    "<img src=\"img/matplotlib-quiver.png\"> "
   ]
  },
  {
   "cell_type": "code",
   "execution_count": null,
   "metadata": {
    "collapsed": true
   },
   "outputs": [],
   "source": []
  }
 ],
 "metadata": {
  "kernelspec": {
   "display_name": "Python 3",
   "language": "python",
   "name": "python3"
  },
  "language_info": {
   "codemirror_mode": {
    "name": "ipython",
    "version": 3
   },
   "file_extension": ".py",
   "mimetype": "text/x-python",
   "name": "python",
   "nbconvert_exporter": "python",
   "pygments_lexer": "ipython3",
   "version": "3.5.1"
  }
 },
 "nbformat": 4,
 "nbformat_minor": 0
}
