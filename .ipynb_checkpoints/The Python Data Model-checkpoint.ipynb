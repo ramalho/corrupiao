{
 "cells": [
  {
   "cell_type": "markdown",
   "metadata": {},
   "source": [
    "# The Python Data Model\n",
    "\n",
    "If you learned another object-oriented language before Python, you may have found it strange to call `len(collection)` instead of `collection.len()`. This apparent oddity is the tip of an iceberg that, when properly understood, is the key to everything we call *Pythonic*. The iceberg is called the [Python Data Model](https://docs.python.org/3/reference/datamodel.html), and it describes the API that you can use to make your own objects play well with the most idiomatic language features.\n",
    "\n",
    "To create pleasant, intuitive and expressive libraries and APIs, you need to leverage the Python Data Model, so that your objects behave consistently with the built-in objects in the language. \n",
    "\n",
    "The Data Model is based on a set of fundamental interfaces. Python is a dynamically typed language, so to implement an interface you just code methods with the required names and signatures. You are not required to implement an interface fully if a partial implementation covers your use cases. The Data Model interfaces all use method names prefixed and suffixed with `__` (two underscores), such as `__add__` or `__len__`. These are known as special methods, magic methods or *dunder* methods (after *double underscore*).\n",
    "\n",
    "The special method names allow your objects to implement, support, and interact with basic language constructs such as:\n",
    "\n",
    "* Iteration\n",
    "* Collections\n",
    "* Attribute access\n",
    "* Operator overloading\n",
    "* Function and method invocation\n",
    "* Object creation and destruction\n",
    "* String representation and formatting\n",
    "* Managed contexts (i.e., with blocks)\n",
    "\n",
    "To see the Data Model in action, we'll implement a subset of the **Sequence** interface, which describes the behavior of strings, lists, tuples, arrays and many other Python types.\n"
   ]
  },
  {
   "cell_type": "markdown",
   "metadata": {},
   "source": [
    "## A Pythonic Card Deck"
   ]
  },
  {
   "cell_type": "markdown",
   "metadata": {},
   "source": [
    "Let's code a package to represent decks of playing cards. First, we'll create a simple class to represent an individual card. A card will be a record with two data attributes and no methods. Python has a factory to make such simple classes: ``collections.namedtuple``."
   ]
  },
  {
   "cell_type": "code",
   "execution_count": 1,
   "metadata": {
    "collapsed": true
   },
   "outputs": [],
   "source": [
    "import collections\n",
    "\n",
    "Card = collections.namedtuple('Card', ['rank', 'suit'])"
   ]
  },
  {
   "cell_type": "markdown",
   "metadata": {},
   "source": [
    "Note that the ``namedtuple`` factory takes two arguments: the name of the class to create and a sequence of attribute names.\n",
    "\n",
    "The ``Card`` class can then be instantiated as usual:"
   ]
  },
  {
   "cell_type": "code",
   "execution_count": 2,
   "metadata": {
    "collapsed": false
   },
   "outputs": [
    {
     "data": {
      "text/plain": [
       "Card(rank='7', suit='diamonds')"
      ]
     },
     "execution_count": 2,
     "metadata": {},
     "output_type": "execute_result"
    }
   ],
   "source": [
    "beer_card = Card('7', 'diamonds')\n",
    "beer_card"
   ]
  },
  {
   "cell_type": "markdown",
   "metadata": {},
   "source": [
    "The string representation of a ``Card`` instance is so explicit that you can clone a card by applying ``eval()`` to its `repr()`:"
   ]
  },
  {
   "cell_type": "code",
   "execution_count": 3,
   "metadata": {
    "collapsed": false
   },
   "outputs": [
    {
     "data": {
      "text/plain": [
       "True"
      ]
     },
     "execution_count": 3,
     "metadata": {},
     "output_type": "execute_result"
    }
   ],
   "source": [
    "my_card = eval(repr(beer_card))\n",
    "my_card == beer_card"
   ]
  },
  {
   "cell_type": "markdown",
   "metadata": {},
   "source": [
    "We are now ready to code the class to represent a deck of cards. I'll call it `` FrenchDeck`` since that is the formal name of the set of 52 cards with 4 suits used not only in France but in most of the Western world."
   ]
  },
  {
   "cell_type": "code",
   "execution_count": 4,
   "metadata": {
    "collapsed": true
   },
   "outputs": [],
   "source": [
    "class FrenchDeck:\n",
    "    ranks = [str(n) for n in range(2, 11)] + list('JQKA')\n",
    "    suits = 'spades diamonds clubs hearts'.split()\n",
    "\n",
    "    def __init__(self):\n",
    "        self._cards = [Card(rank, suit) for suit in self.suits\n",
    "                                        for rank in self.ranks]\n",
    "\n",
    "    def __len__(self):\n",
    "        return len(self._cards)\n",
    "\n",
    "    def __getitem__(self, position):\n",
    "        return self._cards[position]"
   ]
  },
  {
   "cell_type": "markdown",
   "metadata": {},
   "source": [
    "The code is short but it does a lot.\n",
    "\n",
    "The trickiest part is the use of a list comprehension in the initializer to build a list of cards by computing the cartesian product of the lists suits and ranks. The logic of that list comprehension is explained in chapter 2 of Fluent Python, but right now we just want to focus on the external behavior of the class, so please believe that ``self._cards`` holds a list of 52 ``Card`` instances, as you'll see right away."
   ]
  },
  {
   "cell_type": "code",
   "execution_count": 5,
   "metadata": {
    "collapsed": false
   },
   "outputs": [
    {
     "data": {
      "text/plain": [
       "52"
      ]
     },
     "execution_count": 5,
     "metadata": {},
     "output_type": "execute_result"
    }
   ],
   "source": [
    "deck = FrenchDeck()\n",
    "\n",
    "len(deck)"
   ]
  },
  {
   "cell_type": "markdown",
   "metadata": {},
   "source": [
    "The ``len`` built-in function knows how to handle a ``FrenchDeck`` because we implemented the ``__len__`` special method. This is consistent with how built-in collections work, and saves the user from memorizing arbitrary method names for common operations (\"How to get the number of items? Is it `.length()`, `.size()` or what?\").\n",
    "\n",
    "The `__getitem__` special method supports the use of ``[]`` and provides a lot of functionality.\n",
    "\n",
    "We can get any card by index, as usual. For example, first and last:"
   ]
  },
  {
   "cell_type": "code",
   "execution_count": 6,
   "metadata": {
    "collapsed": false
   },
   "outputs": [
    {
     "data": {
      "text/plain": [
       "(Card(rank='2', suit='spades'), Card(rank='A', suit='hearts'))"
      ]
     },
     "execution_count": 6,
     "metadata": {},
     "output_type": "execute_result"
    }
   ],
   "source": [
    "deck[0], deck[-1]"
   ]
  },
  {
   "cell_type": "markdown",
   "metadata": {},
   "source": [
    "We can also use slice notation to retrieve a subset of the cards:"
   ]
  },
  {
   "cell_type": "code",
   "execution_count": 7,
   "metadata": {
    "collapsed": false
   },
   "outputs": [
    {
     "data": {
      "text/plain": [
       "[Card(rank='2', suit='spades'),\n",
       " Card(rank='3', suit='spades'),\n",
       " Card(rank='4', suit='spades')]"
      ]
     },
     "execution_count": 7,
     "metadata": {},
     "output_type": "execute_result"
    }
   ],
   "source": [
    "deck[:3]"
   ]
  },
  {
   "cell_type": "markdown",
   "metadata": {},
   "source": [
    "Here's how to use the the third parameter of a slice to get just the Aces in the deck by starting at card index 12 and skipping 13 cards from that point onwards."
   ]
  },
  {
   "cell_type": "code",
   "execution_count": 8,
   "metadata": {
    "collapsed": false
   },
   "outputs": [
    {
     "data": {
      "text/plain": [
       "[Card(rank='A', suit='spades'),\n",
       " Card(rank='A', suit='diamonds'),\n",
       " Card(rank='A', suit='clubs'),\n",
       " Card(rank='A', suit='hearts')]"
      ]
     },
     "execution_count": 8,
     "metadata": {},
     "output_type": "execute_result"
    }
   ],
   "source": [
    "deck[12::13]"
   ]
  },
  {
   "cell_type": "markdown",
   "metadata": {},
   "source": [
    "The `in` operator also works with our `FrenchDeck` instances. This behavior can be optimized by implementing a `__contains__` method, but if you provide a `__getitem__` method, Python is smart enough to scan the collection from item 0 to the end. "
   ]
  },
  {
   "cell_type": "code",
   "execution_count": 9,
   "metadata": {
    "collapsed": false
   },
   "outputs": [
    {
     "data": {
      "text/plain": [
       "True"
      ]
     },
     "execution_count": 9,
     "metadata": {},
     "output_type": "execute_result"
    }
   ],
   "source": [
    "Card('Q', 'hearts') in deck"
   ]
  },
  {
   "cell_type": "code",
   "execution_count": 10,
   "metadata": {
    "collapsed": false
   },
   "outputs": [
    {
     "data": {
      "text/plain": [
       "False"
      ]
     },
     "execution_count": 10,
     "metadata": {},
     "output_type": "execute_result"
    }
   ],
   "source": [
    "Card('Z', 'clubs') in deck"
   ]
  },
  {
   "cell_type": "markdown",
   "metadata": {},
   "source": [
    "### Iteration"
   ]
  },
  {
   "cell_type": "markdown",
   "metadata": {},
   "source": [
    "Our card decks are also iterable. Implementing an `__iter__` method to return a custom iterator is the optimal way do achieve this. But, as a fallback, Python knows how to iterate over any collection that implements `__getitem__` and accepts integer indexes starting at 0:"
   ]
  },
  {
   "cell_type": "code",
   "execution_count": 11,
   "metadata": {
    "collapsed": false,
    "scrolled": true
   },
   "outputs": [
    {
     "name": "stdout",
     "output_type": "stream",
     "text": [
      "Card(rank='2', suit='spades')\n",
      "Card(rank='3', suit='spades')\n",
      "Card(rank='4', suit='spades')\n",
      "Card(rank='5', suit='spades')\n",
      "Card(rank='6', suit='spades')\n",
      "Card(rank='7', suit='spades')\n",
      "Card(rank='8', suit='spades')\n",
      "Card(rank='9', suit='spades')\n",
      "Card(rank='10', suit='spades')\n",
      "Card(rank='J', suit='spades')\n",
      "Card(rank='Q', suit='spades')\n",
      "Card(rank='K', suit='spades')\n",
      "Card(rank='A', suit='spades')\n",
      "Card(rank='2', suit='diamonds')\n",
      "Card(rank='3', suit='diamonds')\n",
      "Card(rank='4', suit='diamonds')\n",
      "Card(rank='5', suit='diamonds')\n",
      "Card(rank='6', suit='diamonds')\n",
      "Card(rank='7', suit='diamonds')\n",
      "Card(rank='8', suit='diamonds')\n",
      "Card(rank='9', suit='diamonds')\n",
      "Card(rank='10', suit='diamonds')\n",
      "Card(rank='J', suit='diamonds')\n",
      "Card(rank='Q', suit='diamonds')\n",
      "Card(rank='K', suit='diamonds')\n",
      "Card(rank='A', suit='diamonds')\n",
      "Card(rank='2', suit='clubs')\n",
      "Card(rank='3', suit='clubs')\n",
      "Card(rank='4', suit='clubs')\n",
      "Card(rank='5', suit='clubs')\n",
      "Card(rank='6', suit='clubs')\n",
      "Card(rank='7', suit='clubs')\n",
      "Card(rank='8', suit='clubs')\n",
      "Card(rank='9', suit='clubs')\n",
      "Card(rank='10', suit='clubs')\n",
      "Card(rank='J', suit='clubs')\n",
      "Card(rank='Q', suit='clubs')\n",
      "Card(rank='K', suit='clubs')\n",
      "Card(rank='A', suit='clubs')\n",
      "Card(rank='2', suit='hearts')\n",
      "Card(rank='3', suit='hearts')\n",
      "Card(rank='4', suit='hearts')\n",
      "Card(rank='5', suit='hearts')\n",
      "Card(rank='6', suit='hearts')\n",
      "Card(rank='7', suit='hearts')\n",
      "Card(rank='8', suit='hearts')\n",
      "Card(rank='9', suit='hearts')\n",
      "Card(rank='10', suit='hearts')\n",
      "Card(rank='J', suit='hearts')\n",
      "Card(rank='Q', suit='hearts')\n",
      "Card(rank='K', suit='hearts')\n",
      "Card(rank='A', suit='hearts')\n"
     ]
    }
   ],
   "source": [
    "for card in deck:\n",
    "  print(card)"
   ]
  },
  {
   "cell_type": "markdown",
   "metadata": {},
   "source": [
    "By supporting iteration, we can leverage many functions in the standard library that work with iterables, like `enumerate()`, `reversed()` as well as the constructor for `list` and several other collection types."
   ]
  },
  {
   "cell_type": "code",
   "execution_count": 12,
   "metadata": {
    "collapsed": false,
    "scrolled": true
   },
   "outputs": [
    {
     "data": {
      "text/plain": [
       "[(1, Card(rank='A', suit='hearts')),\n",
       " (2, Card(rank='K', suit='hearts')),\n",
       " (3, Card(rank='Q', suit='hearts')),\n",
       " (4, Card(rank='J', suit='hearts')),\n",
       " (5, Card(rank='10', suit='hearts')),\n",
       " (6, Card(rank='9', suit='hearts')),\n",
       " (7, Card(rank='8', suit='hearts')),\n",
       " (8, Card(rank='7', suit='hearts')),\n",
       " (9, Card(rank='6', suit='hearts')),\n",
       " (10, Card(rank='5', suit='hearts')),\n",
       " (11, Card(rank='4', suit='hearts')),\n",
       " (12, Card(rank='3', suit='hearts')),\n",
       " (13, Card(rank='2', suit='hearts')),\n",
       " (14, Card(rank='A', suit='clubs')),\n",
       " (15, Card(rank='K', suit='clubs')),\n",
       " (16, Card(rank='Q', suit='clubs')),\n",
       " (17, Card(rank='J', suit='clubs')),\n",
       " (18, Card(rank='10', suit='clubs')),\n",
       " (19, Card(rank='9', suit='clubs')),\n",
       " (20, Card(rank='8', suit='clubs')),\n",
       " (21, Card(rank='7', suit='clubs')),\n",
       " (22, Card(rank='6', suit='clubs')),\n",
       " (23, Card(rank='5', suit='clubs')),\n",
       " (24, Card(rank='4', suit='clubs')),\n",
       " (25, Card(rank='3', suit='clubs')),\n",
       " (26, Card(rank='2', suit='clubs')),\n",
       " (27, Card(rank='A', suit='diamonds')),\n",
       " (28, Card(rank='K', suit='diamonds')),\n",
       " (29, Card(rank='Q', suit='diamonds')),\n",
       " (30, Card(rank='J', suit='diamonds')),\n",
       " (31, Card(rank='10', suit='diamonds')),\n",
       " (32, Card(rank='9', suit='diamonds')),\n",
       " (33, Card(rank='8', suit='diamonds')),\n",
       " (34, Card(rank='7', suit='diamonds')),\n",
       " (35, Card(rank='6', suit='diamonds')),\n",
       " (36, Card(rank='5', suit='diamonds')),\n",
       " (37, Card(rank='4', suit='diamonds')),\n",
       " (38, Card(rank='3', suit='diamonds')),\n",
       " (39, Card(rank='2', suit='diamonds')),\n",
       " (40, Card(rank='A', suit='spades')),\n",
       " (41, Card(rank='K', suit='spades')),\n",
       " (42, Card(rank='Q', suit='spades')),\n",
       " (43, Card(rank='J', suit='spades')),\n",
       " (44, Card(rank='10', suit='spades')),\n",
       " (45, Card(rank='9', suit='spades')),\n",
       " (46, Card(rank='8', suit='spades')),\n",
       " (47, Card(rank='7', suit='spades')),\n",
       " (48, Card(rank='6', suit='spades')),\n",
       " (49, Card(rank='5', suit='spades')),\n",
       " (50, Card(rank='4', suit='spades')),\n",
       " (51, Card(rank='3', suit='spades')),\n",
       " (52, Card(rank='2', suit='spades'))]"
      ]
     },
     "execution_count": 12,
     "metadata": {},
     "output_type": "execute_result"
    }
   ],
   "source": [
    "list(enumerate(reversed(deck), 1))"
   ]
  },
  {
   "cell_type": "markdown",
   "metadata": {},
   "source": [
    "Another powerful function that works with iterables is `sorted`. It builds a sorted list from iterables that generate a series of comparable values."
   ]
  },
  {
   "cell_type": "code",
   "execution_count": 13,
   "metadata": {
    "collapsed": false,
    "scrolled": true
   },
   "outputs": [
    {
     "data": {
      "text/plain": [
       "[Card(rank='10', suit='clubs'),\n",
       " Card(rank='10', suit='diamonds'),\n",
       " Card(rank='10', suit='hearts'),\n",
       " Card(rank='10', suit='spades'),\n",
       " Card(rank='2', suit='clubs'),\n",
       " Card(rank='2', suit='diamonds'),\n",
       " Card(rank='2', suit='hearts'),\n",
       " Card(rank='2', suit='spades'),\n",
       " Card(rank='3', suit='clubs'),\n",
       " Card(rank='3', suit='diamonds'),\n",
       " Card(rank='3', suit='hearts'),\n",
       " Card(rank='3', suit='spades'),\n",
       " Card(rank='4', suit='clubs'),\n",
       " Card(rank='4', suit='diamonds'),\n",
       " Card(rank='4', suit='hearts'),\n",
       " Card(rank='4', suit='spades'),\n",
       " Card(rank='5', suit='clubs'),\n",
       " Card(rank='5', suit='diamonds'),\n",
       " Card(rank='5', suit='hearts'),\n",
       " Card(rank='5', suit='spades'),\n",
       " Card(rank='6', suit='clubs'),\n",
       " Card(rank='6', suit='diamonds'),\n",
       " Card(rank='6', suit='hearts'),\n",
       " Card(rank='6', suit='spades'),\n",
       " Card(rank='7', suit='clubs'),\n",
       " Card(rank='7', suit='diamonds'),\n",
       " Card(rank='7', suit='hearts'),\n",
       " Card(rank='7', suit='spades'),\n",
       " Card(rank='8', suit='clubs'),\n",
       " Card(rank='8', suit='diamonds'),\n",
       " Card(rank='8', suit='hearts'),\n",
       " Card(rank='8', suit='spades'),\n",
       " Card(rank='9', suit='clubs'),\n",
       " Card(rank='9', suit='diamonds'),\n",
       " Card(rank='9', suit='hearts'),\n",
       " Card(rank='9', suit='spades'),\n",
       " Card(rank='A', suit='clubs'),\n",
       " Card(rank='A', suit='diamonds'),\n",
       " Card(rank='A', suit='hearts'),\n",
       " Card(rank='A', suit='spades'),\n",
       " Card(rank='J', suit='clubs'),\n",
       " Card(rank='J', suit='diamonds'),\n",
       " Card(rank='J', suit='hearts'),\n",
       " Card(rank='J', suit='spades'),\n",
       " Card(rank='K', suit='clubs'),\n",
       " Card(rank='K', suit='diamonds'),\n",
       " Card(rank='K', suit='hearts'),\n",
       " Card(rank='K', suit='spades'),\n",
       " Card(rank='Q', suit='clubs'),\n",
       " Card(rank='Q', suit='diamonds'),\n",
       " Card(rank='Q', suit='hearts'),\n",
       " Card(rank='Q', suit='spades')]"
      ]
     },
     "execution_count": 13,
     "metadata": {},
     "output_type": "execute_result"
    }
   ],
   "source": [
    "sorted(deck)"
   ]
  },
  {
   "cell_type": "markdown",
   "metadata": {},
   "source": [
    "We can define custom sorting criteria by implementing a function to produce a key from each item in the series, and passing it as the `key=` argument to `sorted`. Here is a function that implements the \"spades high\" ordering, where cards are sorted by rank and, within each rank, spades is the highest suit, followed by hearts, diamonds and clubs:"
   ]
  },
  {
   "cell_type": "code",
   "execution_count": 14,
   "metadata": {
    "collapsed": true
   },
   "outputs": [],
   "source": [
    "def spades_high(card):\n",
    "    rank_value = FrenchDeck.ranks.index(card.rank)\n",
    "    return (rank_value, card.suit)"
   ]
  },
  {
   "cell_type": "markdown",
   "metadata": {},
   "source": [
    "As written, `spades_high` produces the highest key value for the Ace of spades and the lowest for the 2 of clubs:"
   ]
  },
  {
   "cell_type": "code",
   "execution_count": 15,
   "metadata": {
    "collapsed": false
   },
   "outputs": [
    {
     "data": {
      "text/plain": [
       "((12, 'spades'), (0, 'clubs'))"
      ]
     },
     "execution_count": 15,
     "metadata": {},
     "output_type": "execute_result"
    }
   ],
   "source": [
    "spades_high(Card('A', 'spades')), spades_high(Card('2', 'clubs'))"
   ]
  },
  {
   "cell_type": "code",
   "execution_count": 16,
   "metadata": {
    "collapsed": false,
    "scrolled": true
   },
   "outputs": [
    {
     "data": {
      "text/plain": [
       "[Card(rank='2', suit='clubs'),\n",
       " Card(rank='2', suit='diamonds'),\n",
       " Card(rank='2', suit='hearts'),\n",
       " Card(rank='2', suit='spades'),\n",
       " Card(rank='3', suit='clubs'),\n",
       " Card(rank='3', suit='diamonds'),\n",
       " Card(rank='3', suit='hearts'),\n",
       " Card(rank='3', suit='spades'),\n",
       " Card(rank='4', suit='clubs'),\n",
       " Card(rank='4', suit='diamonds'),\n",
       " Card(rank='4', suit='hearts'),\n",
       " Card(rank='4', suit='spades'),\n",
       " Card(rank='5', suit='clubs'),\n",
       " Card(rank='5', suit='diamonds'),\n",
       " Card(rank='5', suit='hearts'),\n",
       " Card(rank='5', suit='spades'),\n",
       " Card(rank='6', suit='clubs'),\n",
       " Card(rank='6', suit='diamonds'),\n",
       " Card(rank='6', suit='hearts'),\n",
       " Card(rank='6', suit='spades'),\n",
       " Card(rank='7', suit='clubs'),\n",
       " Card(rank='7', suit='diamonds'),\n",
       " Card(rank='7', suit='hearts'),\n",
       " Card(rank='7', suit='spades'),\n",
       " Card(rank='8', suit='clubs'),\n",
       " Card(rank='8', suit='diamonds'),\n",
       " Card(rank='8', suit='hearts'),\n",
       " Card(rank='8', suit='spades'),\n",
       " Card(rank='9', suit='clubs'),\n",
       " Card(rank='9', suit='diamonds'),\n",
       " Card(rank='9', suit='hearts'),\n",
       " Card(rank='9', suit='spades'),\n",
       " Card(rank='10', suit='clubs'),\n",
       " Card(rank='10', suit='diamonds'),\n",
       " Card(rank='10', suit='hearts'),\n",
       " Card(rank='10', suit='spades'),\n",
       " Card(rank='J', suit='clubs'),\n",
       " Card(rank='J', suit='diamonds'),\n",
       " Card(rank='J', suit='hearts'),\n",
       " Card(rank='J', suit='spades'),\n",
       " Card(rank='Q', suit='clubs'),\n",
       " Card(rank='Q', suit='diamonds'),\n",
       " Card(rank='Q', suit='hearts'),\n",
       " Card(rank='Q', suit='spades'),\n",
       " Card(rank='K', suit='clubs'),\n",
       " Card(rank='K', suit='diamonds'),\n",
       " Card(rank='K', suit='hearts'),\n",
       " Card(rank='K', suit='spades'),\n",
       " Card(rank='A', suit='clubs'),\n",
       " Card(rank='A', suit='diamonds'),\n",
       " Card(rank='A', suit='hearts'),\n",
       " Card(rank='A', suit='spades')]"
      ]
     },
     "execution_count": 16,
     "metadata": {},
     "output_type": "execute_result"
    }
   ],
   "source": [
    "sorted(deck, key=spades_high)"
   ]
  },
  {
   "cell_type": "markdown",
   "metadata": {},
   "source": [
    "### Monkey patching"
   ]
  },
  {
   "cell_type": "markdown",
   "metadata": {},
   "source": [
    "The standard library provides many functions that operate on sequences. For example, picking a random item is as simple as this:"
   ]
  },
  {
   "cell_type": "code",
   "execution_count": 25,
   "metadata": {
    "collapsed": false
   },
   "outputs": [
    {
     "data": {
      "text/plain": [
       "Card(rank='5', suit='diamonds')"
      ]
     },
     "execution_count": 25,
     "metadata": {},
     "output_type": "execute_result"
    }
   ],
   "source": [
    "import random\n",
    "random.choice(deck)"
   ]
  },
  {
   "cell_type": "markdown",
   "metadata": {},
   "source": [
    "This is a live notebook, so each time you run the code above, the random choice will be computed again, producing different results."
   ]
  },
  {
   "cell_type": "markdown",
   "metadata": {},
   "source": [
    "How about shuffling? Let's try it next."
   ]
  },
  {
   "cell_type": "code",
   "execution_count": 18,
   "metadata": {
    "collapsed": false
   },
   "outputs": [
    {
     "name": "stdout",
     "output_type": "stream",
     "text": [
      "TypeError(\"'FrenchDeck' object does not support item assignment\",)\n"
     ]
    }
   ],
   "source": [
    "try:\n",
    "    random.shuffle(deck)\n",
    "except TypeError as e:  # this error is expected!\n",
    "    print(repr(e))  \n",
    "else:\n",
    "    print('The deck was shuffled!')"
   ]
  },
  {
   "cell_type": "markdown",
   "metadata": {},
   "source": [
    "The first time you run this notebook you should see an exception above: `TypeError: 'FrenchDeck' object does not support item assignment`. The problem is that `random.shuffle` works by rearranging the items in-place, but it can only do `deck[i] = card` if the sequence implements the `__setitem__` method. \n",
    "\n",
    "We could redefine the whole `FrenchDeck` class here, but let's do a *monkey patch*, just for fun. Monkey patching is changing classes or modules at run time. To enable shuffling, we can create a function that puts a card in a certain position of a deck: "
   ]
  },
  {
   "cell_type": "code",
   "execution_count": 19,
   "metadata": {
    "collapsed": true
   },
   "outputs": [],
   "source": [
    "def put(deck, index, card):\n",
    "    deck._cards[index] = card"
   ]
  },
  {
   "cell_type": "markdown",
   "metadata": {},
   "source": [
    "Note how `put` is tricky: it assigns to the \"private\" atribute `deck._cards`. Monkey patches are naughty. They often touch the intimate parts of the target objects.\n",
    "\n",
    "Now we can patch the `FrenchDeck` card to insert the `put` function as its `__setitem__` method:"
   ]
  },
  {
   "cell_type": "code",
   "execution_count": 20,
   "metadata": {
    "collapsed": true
   },
   "outputs": [],
   "source": [
    "FrenchDeck.__setitem__ = put"
   ]
  },
  {
   "cell_type": "markdown",
   "metadata": {},
   "source": [
    "Now we can shuffle the deck and get the first five cards to verify:"
   ]
  },
  {
   "cell_type": "code",
   "execution_count": 27,
   "metadata": {
    "collapsed": false
   },
   "outputs": [
    {
     "data": {
      "text/plain": [
       "[Card(rank='J', suit='clubs'),\n",
       " Card(rank='Q', suit='diamonds'),\n",
       " Card(rank='3', suit='hearts'),\n",
       " Card(rank='8', suit='diamonds'),\n",
       " Card(rank='2', suit='clubs')]"
      ]
     },
     "execution_count": 27,
     "metadata": {},
     "output_type": "execute_result"
    }
   ],
   "source": [
    "random.shuffle(deck)\n",
    "deck[:5]"
   ]
  },
  {
   "cell_type": "markdown",
   "metadata": {},
   "source": [
    "Again, in a live notebook such as this, each time you run the cell above you should get a different result.\n",
    "\n",
    "If you want to disable item assignment to experiment further, you can delete `__setitem__` from the `FrenchDeck` class. Then `random.shuffle` will stop working. Uncomment and run the next cell to try this."
   ]
  },
  {
   "cell_type": "code",
   "execution_count": 22,
   "metadata": {
    "collapsed": false
   },
   "outputs": [],
   "source": [
    "# del FrenchDeck.__setitem__\n",
    "# random.shuffle(deck)  # <-- this will break"
   ]
  },
  {
   "cell_type": "markdown",
   "metadata": {},
   "source": [
    "Monkey patching has a bad reputation among Pythonistas. Monkey patches are often tightly bound to the implementation details of the patched code, so we apply them only as a last resort. \n",
    "\n",
    "However, some important Python projects use this technique to great effect. For example, the `gevent` networking library, [uses monkey patching extensively](http://www.gevent.org/intro.html#monkey-patching) to make the Python standard library support highly concurrent network I/O. \n",
    "\n",
    "Here, monkey patching was a didactic device to illustrate these ideas:\n",
    "\n",
    "* Classes are objets too, so you can add attributes to them at run-time.\n",
    "* Methods are merely functions assigned to class attributes.\n",
    "* What makes a method \"special\" is naming: Python recognizes a fixed set of special method names, such as `__setitem__`.\n",
    "* Many standard operations are implemented by special methods. For example, getting and setting items in sequences triggers the `__getitem__` and `__setitem__` methods.\n",
    "\n",
    "Most of the special method names supported by Python are in the [Data model](https://docs.python.org/3/reference/datamodel.html) chapter of the Python Language Reference."
   ]
  },
  {
   "cell_type": "markdown",
   "metadata": {
    "collapsed": true
   },
   "source": [
    "### What we saw so far\n",
    "\n",
    "The `FrenchDeck` example demonstrates how smart use of Python features lets us go very far with just a little coding.\n",
    "\n",
    "`FrenchDeck` implicitly inherits from `object`, but its functionality is not inherited: it comes from leveraging the Data Model and composition. The `__len__` and `__getitem__` methods delegate all the work to a `list` object, `self._cards`. Note that my code never calls special methods directly. They are called by the interpreter.\n",
    "\n",
    "By implementing the special methods `__len__` and `__getitem__`, our class behaves like a basic Python sequence, allowing it to benefit from core language features such as: \n",
    "\n",
    "* The `len()` built-in function.\n",
    "* Item access.\n",
    "* Slicing.\n",
    "* Iteration.\n",
    "* Several functions that accept sequences or iterables (e.g. `list`, `enumerate`, `sorted`, `random.choice`.\n",
    "\n",
    "By adding `__setitem__`, the deck became mutable, thus supporting `random.shuffle`. When I first wrote this example years ago I actually did implement a `FrenchDeck.shuffle` method. But then I realized that I was already coding a sequence-like object, so I should just use the existing sequence shuffling function in the standard library.\n",
    "\n",
    "The main point is this: if you follow the conventions of the Data Model, your users can take more advantage of the standard library. So your objects will be easier to use and more powerful at the same time.\n",
    "\n",
    "The next example will show how special methods are used for operator overloading."
   ]
  },
  {
   "cell_type": "markdown",
   "metadata": {},
   "source": [
    "## Mathematical vectors\n",
    "\n",
    "Programmers often think of a vector as a synomym for array, but we'll work with Euclidean vectors used in Math and Physics, like these:\n",
    "\n",
    "<img src=\"img/vectors550x473.png\">\n",
    "\n",
    "The picture above illustrates a vector addition. We'd like to represent those objects in code, like this:\n",
    "\n",
    "```python\n",
    "v1 = Vector(2, 4)\n",
    "v2 = Vector(2, 1)\n",
    "v3 = v1 + v2\n",
    "print(v3)  # --> Vector(4, 5)\n",
    "```\n",
    "\n",
    "Let's start with the basic methods every object should have: `__init__` and `__repr__` (for testing and debugging)."
   ]
  },
  {
   "cell_type": "markdown",
   "metadata": {},
   "source": [
    "### Vector take #1: initialization and inspection"
   ]
  },
  {
   "cell_type": "markdown",
   "metadata": {},
   "source": [
    "Our first step is enables building and inspecting instances of `Vector`. We'll use an `array` of doubles to store the arguments passed to the constructor:"
   ]
  },
  {
   "cell_type": "code",
   "execution_count": 37,
   "metadata": {
    "collapsed": true
   },
   "outputs": [],
   "source": [
    "from array import array\n",
    "\n",
    "class Vector:\n",
    "\n",
    "    def __init__(self, *components):\n",
    "        self._components = array('d', components)\n",
    "\n",
    "    def __repr__(self):\n",
    "        components_str = ', '.join(str(x) for x in self._components)\n",
    "        return '{}({})'.format(self.__class__.__name__, components_str)"
   ]
  },
  {
   "cell_type": "markdown",
   "metadata": {},
   "source": [
    "Like the standard Python console and debugger, iPython uses `repr(v1)` to render a `v1` object, triggering a call to `v1.__repr__()`:"
   ]
  },
  {
   "cell_type": "code",
   "execution_count": 38,
   "metadata": {
    "collapsed": false
   },
   "outputs": [
    {
     "data": {
      "text/plain": [
       "Vector(2.0, 4.0)"
      ]
     },
     "execution_count": 38,
     "metadata": {},
     "output_type": "execute_result"
    }
   ],
   "source": [
    "v1 = Vector(2, 4)\n",
    "v1"
   ]
  },
  {
   "cell_type": "markdown",
   "metadata": {},
   "source": [
    "The `__repr__` method uses a generator expression to iterate over the array of floats to render each as a string."
   ]
  },
  {
   "cell_type": "markdown",
   "metadata": {},
   "source": [
    "### Detour: why `repr` and `__repr__`, `len` and `__len__`?\n",
    "\n",
    "You may be wondering why we say that Python calls `repr` but we implement `__repr__`. With the `FrenchDeck` it was the same thing: we saw that `len(deck)` resulted in a call to `deck.__len__()`.\n",
    "\n",
    "There is a practical reason: for built-in types, a call such as `len(obj)` does not invoke `obj.__len__()`. If the type of `obj` is an instance of a variable length built-in type coded in C, its memory representation has a struct named `PyVarObject` with an `ob_size` field. In that case, `len(obj)` just returns the value of the `ob_size` field, avoiding an expensive dynamic attribute lookup and method call. Only it `obj` is a user defined type, then `len()` will call the `__len__()` special method, as a fallback.\n",
    "\n",
    "A similar rationale explains why Java arrays have a `.length` atribute, while most Java collections implement `.length()` or `.size()` methods. The difference is that Python strives for consistency: it optimizes the operation of the fundamental built-in types, but allows our own types to behave consistently by implementing special methods."
   ]
  },
  {
   "cell_type": "code",
   "execution_count": null,
   "metadata": {
    "collapsed": true
   },
   "outputs": [],
   "source": []
  }
 ],
 "metadata": {
  "kernelspec": {
   "display_name": "Python 3",
   "language": "python",
   "name": "python3"
  },
  "language_info": {
   "codemirror_mode": {
    "name": "ipython",
    "version": 3
   },
   "file_extension": ".py",
   "mimetype": "text/x-python",
   "name": "python",
   "nbconvert_exporter": "python",
   "pygments_lexer": "ipython3",
   "version": "3.5.1"
  }
 },
 "nbformat": 4,
 "nbformat_minor": 0
}
