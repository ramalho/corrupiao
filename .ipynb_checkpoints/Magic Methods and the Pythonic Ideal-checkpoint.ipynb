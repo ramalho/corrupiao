{
 "cells": [
  {
   "cell_type": "markdown",
   "metadata": {},
   "source": [
    "# Magic Methods and the Pythonic Ideal"
   ]
  },
  {
   "cell_type": "markdown",
   "metadata": {},
   "source": [
    "Python programmers use the word *Pythonic* to praise code and APIs that are consistent with standard features of the language, and therefore are easy to understand. Python is a highly consistent language – apart from the loony mix of `CamelCase`, `snake_case` and `runon` identifiers the standard library.\n",
    "\n",
    "Consider how the `+` operator works:"
   ]
  },
  {
   "cell_type": "code",
   "execution_count": 3,
   "metadata": {
    "collapsed": false
   },
   "outputs": [
    {
     "data": {
      "text/plain": [
       "(5, Fraction(1, 1), 'AB', [10, 20, 30, 40])"
      ]
     },
     "execution_count": 3,
     "metadata": {},
     "output_type": "execute_result"
    }
   ],
   "source": [
    "from fractions import Fraction\n",
    "2 + 3, Fraction(1, 3) + Fraction(2, 3), 'A' + 'B', [10, 20] + [30, 40]"
   ]
  },
  {
   "cell_type": "markdown",
   "metadata": {},
   "source": [
    "Note that simple types and more complex ones, like `Fraction` and `list` handle the `+` operator equally well.\n",
    "\n",
    "Now, look how the result of multiplications are a natural extension of the additions:"
   ]
  },
  {
   "cell_type": "code",
   "execution_count": 4,
   "metadata": {
    "collapsed": false
   },
   "outputs": [
    {
     "data": {
      "text/plain": [
       "(6, Fraction(1, 1), 'ABABAB', [10, 20, 10, 20, 10, 20])"
      ]
     },
     "execution_count": 4,
     "metadata": {},
     "output_type": "execute_result"
    }
   ],
   "source": [
    "2 * 3, Fraction(1, 3) * 3, 'AB' * 3, [10, 20] * 3"
   ]
  },
  {
   "cell_type": "markdown",
   "metadata": {},
   "source": [
    "As expected, multiplication produces the same result as repeated addition. Your own objects can overload almost every operator in Python thanks to *magic methods*, special methods named with leading and trailing `__` (double underscores). For example, to support `+` you implement the `__add__` *magic method*. The expression `a * b` is executed as `a.__mul__(b)` – in the simplest case.\n",
    "\n",
    "Those special methods are called *magic* because they implement behavior that requires supernatural powers in other languages, like supporting arithmetic operators, attribute acess, indexing, iteration etc. But in Python such behavior is not magic at all: any muggle like you and I can code classes in Python that behave as naturally as the built-in types written in C. Contrast this with Go or Java, where only some blessed native types support syntax like infix operators or indexing with `[]`.\n",
    "\n",
    "Informally, many Pythonistas prefer to call the special methods *dunder methods* – where *dunder* is short for *double underscore*. So `__add__` is pronounced as \"dunder add\"."
   ]
  },
  {
   "cell_type": "markdown",
   "metadata": {},
   "source": [
    "## A Pythonic API"
   ]
  },
  {
   "cell_type": "markdown",
   "metadata": {},
   "source": [
    "The `requests` package from Kenneth Reitz is more Pythonic than the `urllib` module of the standard library. Its official documentation contrasts some usage examples from each library. Here is a Python 2 snippet from `urllib2` quoted by Reitz:\n",
    "\n",
    "```python\n",
    "print handler.getcode()\n",
    "print handler.headers.getheader('content-type')\n",
    "```\n",
    "\n",
    "And here is the equivalent `requests` snippet:\n",
    "\n",
    "```python\n",
    "print handler.status_code\n",
    "print handler.headers['content-type']\n",
    "```\n",
    "\n",
    "Instead of a getter (`getcode`), Reitz's response handler exposes `status_code` as an attribute. And his `headers` object is a mapping (or behaves like one), so there's no need for `getheader`, the standard `map['key']` syntax can be used.\n",
    "\n",
    "Python gives you full control of the `obj.attr` notation: you can handle access to missing attributes by implementing the `__getattr__` special method, while `__setattr__` allows you to control attribute assignment, e.g. `obj.attr = 42`. Properties and descriptors are more powerful mechanisms for attribute access control, but they are not covered in this presentation.\n",
    "\n",
    "The `__getitem__` and `__setitem__` special methods allow your objects to support item access and assignment using numeric indices, arbitrary keys and even slice notation, e.g. `obj[start:stop:step]`.\n"
   ]
  },
  {
   "cell_type": "markdown",
   "metadata": {},
   "source": [
    "## Vector: a Pythonic type"
   ]
  },
  {
   "cell_type": "markdown",
   "metadata": {
    "collapsed": true
   },
   "source": [
    "Consider Euclidean vectors, the kind used in high school physics:\n",
    "\n",
    "<img src=\"img/vectors550x473.png\">"
   ]
  },
  {
   "cell_type": "code",
   "execution_count": null,
   "metadata": {
    "collapsed": true
   },
   "outputs": [],
   "source": []
  }
 ],
 "metadata": {
  "kernelspec": {
   "display_name": "Python 3",
   "language": "python",
   "name": "python3"
  },
  "language_info": {
   "codemirror_mode": {
    "name": "ipython",
    "version": 3
   },
   "file_extension": ".py",
   "mimetype": "text/x-python",
   "name": "python",
   "nbconvert_exporter": "python",
   "pygments_lexer": "ipython3",
   "version": "3.5.1"
  }
 },
 "nbformat": 4,
 "nbformat_minor": 0
}
